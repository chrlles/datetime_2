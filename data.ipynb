{
 "cells": [
  {
   "cell_type": "code",
   "execution_count": 2,
   "id": "7f3b1b2e",
   "metadata": {},
   "outputs": [],
   "source": [
    "from datetime import datetime"
   ]
  },
  {
   "cell_type": "code",
   "execution_count": 3,
   "id": "9d034ffc",
   "metadata": {},
   "outputs": [],
   "source": [
    "tempo = datetime.now()"
   ]
  },
  {
   "cell_type": "code",
   "execution_count": 4,
   "id": "a47c697e",
   "metadata": {},
   "outputs": [
    {
     "name": "stdout",
     "output_type": "stream",
     "text": [
      "2022\n",
      "2\n",
      "20\n",
      "hoje é dia 20/2/2022\n"
     ]
    }
   ],
   "source": [
    "print(tempo.year)\n",
    "print(tempo.month)\n",
    "print(tempo.day)\n",
    "print(f'hoje é dia {tempo.day}/{tempo.month}/{tempo.year}')"
   ]
  },
  {
   "cell_type": "code",
   "execution_count": 5,
   "id": "8428ee4c",
   "metadata": {},
   "outputs": [
    {
     "name": "stdout",
     "output_type": "stream",
     "text": [
      "20/02/2022\n"
     ]
    }
   ],
   "source": [
    "data = datetime.now()\n",
    "print(f'{data:%d/%m/%Y}')"
   ]
  },
  {
   "cell_type": "code",
   "execution_count": 7,
   "id": "f3a6d847",
   "metadata": {},
   "outputs": [
    {
     "name": "stdout",
     "output_type": "stream",
     "text": [
      "Hoje é dia 20 de fevereiro de 2022\n"
     ]
    }
   ],
   "source": [
    "print(f'Hoje é dia {data:%d} de fevereiro de {data:%Y}')"
   ]
  },
  {
   "cell_type": "code",
   "execution_count": 11,
   "id": "de8aa48c",
   "metadata": {},
   "outputs": [
    {
     "name": "stdout",
     "output_type": "stream",
     "text": [
      "14\n",
      "9\n",
      "51\n"
     ]
    }
   ],
   "source": [
    "print(tempo.hour)\n",
    "print(tempo.minute)\n",
    "print(tempo.second)"
   ]
  },
  {
   "cell_type": "code",
   "execution_count": 15,
   "id": "58ab37b0",
   "metadata": {},
   "outputs": [
    {
     "name": "stdout",
     "output_type": "stream",
     "text": [
      "Agora são 14 horas e 9 minutos\n"
     ]
    }
   ],
   "source": [
    "print(f'Agora são {tempo.hour} horas e {tempo.minute} minutos')"
   ]
  },
  {
   "cell_type": "code",
   "execution_count": 19,
   "id": "eede0bd8",
   "metadata": {},
   "outputs": [
    {
     "name": "stdout",
     "output_type": "stream",
     "text": [
      "14:09:52\n"
     ]
    }
   ],
   "source": [
    "print(f'{data:%H:%M:%S}')"
   ]
  },
  {
   "cell_type": "code",
   "execution_count": null,
   "id": "c9ef11a0",
   "metadata": {},
   "outputs": [],
   "source": []
  }
 ],
 "metadata": {
  "kernelspec": {
   "display_name": "Python 3",
   "language": "python",
   "name": "python3"
  },
  "language_info": {
   "codemirror_mode": {
    "name": "ipython",
    "version": 3
   },
   "file_extension": ".py",
   "mimetype": "text/x-python",
   "name": "python",
   "nbconvert_exporter": "python",
   "pygments_lexer": "ipython3",
   "version": "3.8.8"
  }
 },
 "nbformat": 4,
 "nbformat_minor": 5
}
